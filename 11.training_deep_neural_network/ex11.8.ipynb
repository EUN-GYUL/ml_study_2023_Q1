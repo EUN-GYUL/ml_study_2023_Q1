{
 "cells": [
  {
   "cell_type": "code",
   "execution_count": 7,
   "metadata": {},
   "outputs": [],
   "source": [
    "import sklearn\n",
    "import tensorflow as tf\n",
    "from tensorflow import keras\n",
    "import os\n",
    "\n",
    "import matplotlib as mpl\n",
    "import matplotlib.pyplot as plt\n",
    "import numpy as np"
   ]
  },
  {
   "cell_type": "code",
   "execution_count": 2,
   "metadata": {},
   "outputs": [
    {
     "name": "stdout",
     "output_type": "stream",
     "text": [
      "Downloading data from https://www.cs.toronto.edu/~kriz/cifar-10-python.tar.gz\n",
      "170498071/170498071 [==============================] - 26s 0us/step\n"
     ]
    }
   ],
   "source": [
    "#검증세트 만들기\n",
    "\n",
    "(X_train_full, y_train_full), (X_test, y_test) = keras.datasets.cifar10.load_data()\n",
    "\n",
    "X_train = X_train_full[5000:]\n",
    "y_train = y_train_full[5000:]\n",
    "X_valid = X_train_full[:5000]\n",
    "y_valid = y_train_full[:5000]"
   ]
  },
  {
   "cell_type": "code",
   "execution_count": 4,
   "metadata": {},
   "outputs": [
    {
     "data": {
      "text/plain": [
       "(32, 32, 3)"
      ]
     },
     "execution_count": 4,
     "metadata": {},
     "output_type": "execute_result"
    }
   ],
   "source": [
    "X_train[0].shape"
   ]
  },
  {
   "cell_type": "code",
   "execution_count": 5,
   "metadata": {},
   "outputs": [],
   "source": [
    "\n",
    "model = keras.models.Sequential()\n",
    "model.add(keras.layers.Flatten(input_shape=[32, 32, 3]))\n",
    "for _ in range(20):\n",
    "    model.add(keras.layers.Dense(100,\n",
    "                                 activation=\"elu\",\n",
    "                                 kernel_initializer=\"he_normal\"))"
   ]
  },
  {
   "cell_type": "code",
   "execution_count": null,
   "metadata": {},
   "outputs": [],
   "source": [
    "model.summary()"
   ]
  },
  {
   "cell_type": "code",
   "execution_count": 13,
   "metadata": {},
   "outputs": [],
   "source": [
    "#classify 10 by softmax\n",
    "model.add(keras.layers.Dense(10, activation=\"softmax\"))"
   ]
  },
  {
   "cell_type": "code",
   "execution_count": 14,
   "metadata": {},
   "outputs": [],
   "source": [
    "early_stopping_cb = keras.callbacks.EarlyStopping(patience=20)\n",
    "model_checkpoint_cb = keras.callbacks.ModelCheckpoint(\"my_cifar10_model.h5\", save_best_only=True)\n",
    "run_index = 1 # 모델을 훈련할 때마다 증가시킴\n",
    "run_logdir = os.path.join(os.curdir, \"my_cifar10_logs\", \"run_{:03d}\".format(run_index))\n",
    "tensorboard_cb = keras.callbacks.TensorBoard(run_logdir)\n",
    "callbacks = [early_stopping_cb, model_checkpoint_cb, tensorboard_cb]"
   ]
  },
  {
   "cell_type": "code",
   "execution_count": 15,
   "metadata": {},
   "outputs": [],
   "source": [
    "optimizer = keras.optimizers.Nadam(learning_rate=5e-5)\n",
    "model.compile(loss=\"sparse_categorical_crossentropy\",\n",
    "              optimizer=optimizer,\n",
    "              metrics=[\"accuracy\"])"
   ]
  },
  {
   "cell_type": "code",
   "execution_count": 16,
   "metadata": {},
   "outputs": [
    {
     "name": "stdout",
     "output_type": "stream",
     "text": [
      "Epoch 1/100\n",
      "1407/1407 [==============================] - 12s 5ms/step - loss: 10.0728 - accuracy: 0.1652 - val_loss: 2.1886 - val_accuracy: 0.2084\n",
      "Epoch 2/100\n",
      "1407/1407 [==============================] - 7s 5ms/step - loss: 2.0802 - accuracy: 0.2454 - val_loss: 1.9768 - val_accuracy: 0.2834\n",
      "Epoch 3/100\n",
      "1407/1407 [==============================] - 8s 5ms/step - loss: 1.9537 - accuracy: 0.2875 - val_loss: 1.8850 - val_accuracy: 0.3142\n",
      "Epoch 4/100\n",
      "1407/1407 [==============================] - 7s 5ms/step - loss: 1.8809 - accuracy: 0.3176 - val_loss: 1.8607 - val_accuracy: 0.3242\n",
      "Epoch 5/100\n",
      "1407/1407 [==============================] - 7s 5ms/step - loss: 1.8270 - accuracy: 0.3389 - val_loss: 1.7897 - val_accuracy: 0.3428\n",
      "Epoch 6/100\n",
      "1407/1407 [==============================] - 7s 5ms/step - loss: 1.7712 - accuracy: 0.3618 - val_loss: 1.7324 - val_accuracy: 0.3760\n",
      "Epoch 7/100\n",
      "1407/1407 [==============================] - 7s 5ms/step - loss: 1.7249 - accuracy: 0.3817 - val_loss: 1.7134 - val_accuracy: 0.3816\n",
      "Epoch 8/100\n",
      "1407/1407 [==============================] - 7s 5ms/step - loss: 1.6855 - accuracy: 0.3938 - val_loss: 1.6947 - val_accuracy: 0.3942\n",
      "Epoch 9/100\n",
      "1407/1407 [==============================] - 7s 5ms/step - loss: 1.6530 - accuracy: 0.4079 - val_loss: 1.7035 - val_accuracy: 0.3954\n",
      "Epoch 10/100\n",
      "1407/1407 [==============================] - 8s 5ms/step - loss: 1.6263 - accuracy: 0.4170 - val_loss: 1.6338 - val_accuracy: 0.4116\n",
      "Epoch 11/100\n",
      "1407/1407 [==============================] - 7s 5ms/step - loss: 1.5994 - accuracy: 0.4260 - val_loss: 1.6949 - val_accuracy: 0.3866\n",
      "Epoch 12/100\n",
      "1407/1407 [==============================] - 8s 6ms/step - loss: 1.5779 - accuracy: 0.4338 - val_loss: 1.6044 - val_accuracy: 0.4254\n",
      "Epoch 13/100\n",
      "1407/1407 [==============================] - 7s 5ms/step - loss: 1.5567 - accuracy: 0.4428 - val_loss: 1.6389 - val_accuracy: 0.4054\n",
      "Epoch 14/100\n",
      "1407/1407 [==============================] - 7s 5ms/step - loss: 1.5366 - accuracy: 0.4507 - val_loss: 1.5807 - val_accuracy: 0.4346\n",
      "Epoch 15/100\n",
      "1407/1407 [==============================] - 7s 5ms/step - loss: 1.5212 - accuracy: 0.4548 - val_loss: 1.5654 - val_accuracy: 0.4418\n",
      "Epoch 16/100\n",
      "1407/1407 [==============================] - 7s 5ms/step - loss: 1.5025 - accuracy: 0.4630 - val_loss: 1.5714 - val_accuracy: 0.4364\n",
      "Epoch 17/100\n",
      "1407/1407 [==============================] - 7s 5ms/step - loss: 1.4919 - accuracy: 0.4656 - val_loss: 1.5984 - val_accuracy: 0.4352\n",
      "Epoch 18/100\n",
      "1407/1407 [==============================] - 7s 5ms/step - loss: 1.4765 - accuracy: 0.4736 - val_loss: 1.5750 - val_accuracy: 0.4418\n",
      "Epoch 19/100\n",
      "1407/1407 [==============================] - 7s 5ms/step - loss: 1.4625 - accuracy: 0.4779 - val_loss: 1.5474 - val_accuracy: 0.4422\n",
      "Epoch 20/100\n",
      "1407/1407 [==============================] - 7s 5ms/step - loss: 1.4494 - accuracy: 0.4798 - val_loss: 1.5511 - val_accuracy: 0.4426\n",
      "Epoch 21/100\n",
      "1407/1407 [==============================] - 7s 5ms/step - loss: 1.4359 - accuracy: 0.4875 - val_loss: 1.5410 - val_accuracy: 0.4466\n",
      "Epoch 22/100\n",
      "1407/1407 [==============================] - 6s 5ms/step - loss: 1.4272 - accuracy: 0.4903 - val_loss: 1.5614 - val_accuracy: 0.4460\n",
      "Epoch 23/100\n",
      "1407/1407 [==============================] - 7s 5ms/step - loss: 1.4119 - accuracy: 0.4934 - val_loss: 1.5225 - val_accuracy: 0.4564\n",
      "Epoch 24/100\n",
      "1407/1407 [==============================] - 6s 5ms/step - loss: 1.3979 - accuracy: 0.5027 - val_loss: 1.5632 - val_accuracy: 0.4458\n",
      "Epoch 25/100\n",
      "1407/1407 [==============================] - 6s 5ms/step - loss: 1.3912 - accuracy: 0.4997 - val_loss: 1.5099 - val_accuracy: 0.4580\n",
      "Epoch 26/100\n",
      "1407/1407 [==============================] - 7s 5ms/step - loss: 1.3811 - accuracy: 0.5045 - val_loss: 1.5119 - val_accuracy: 0.4638\n",
      "Epoch 27/100\n",
      "1407/1407 [==============================] - 7s 5ms/step - loss: 1.3700 - accuracy: 0.5108 - val_loss: 1.5338 - val_accuracy: 0.4560\n",
      "Epoch 28/100\n",
      "1407/1407 [==============================] - 6s 5ms/step - loss: 1.3598 - accuracy: 0.5128 - val_loss: 1.5155 - val_accuracy: 0.4644\n",
      "Epoch 29/100\n",
      "1407/1407 [==============================] - 7s 5ms/step - loss: 1.3509 - accuracy: 0.5165 - val_loss: 1.5476 - val_accuracy: 0.4524\n",
      "Epoch 30/100\n",
      "1407/1407 [==============================] - 7s 5ms/step - loss: 1.3395 - accuracy: 0.5224 - val_loss: 1.5086 - val_accuracy: 0.4670\n",
      "Epoch 31/100\n",
      "1407/1407 [==============================] - 7s 5ms/step - loss: 1.3341 - accuracy: 0.5210 - val_loss: 1.5193 - val_accuracy: 0.4612\n",
      "Epoch 32/100\n",
      "1407/1407 [==============================] - 7s 5ms/step - loss: 1.3235 - accuracy: 0.5245 - val_loss: 1.5957 - val_accuracy: 0.4446\n",
      "Epoch 33/100\n",
      "1407/1407 [==============================] - 7s 5ms/step - loss: 1.3123 - accuracy: 0.5304 - val_loss: 1.5212 - val_accuracy: 0.4698\n",
      "Epoch 34/100\n",
      "1407/1407 [==============================] - 7s 5ms/step - loss: 1.3036 - accuracy: 0.5322 - val_loss: 1.4992 - val_accuracy: 0.4686\n",
      "Epoch 35/100\n",
      "1407/1407 [==============================] - 7s 5ms/step - loss: 1.2961 - accuracy: 0.5371 - val_loss: 1.4931 - val_accuracy: 0.4806\n",
      "Epoch 36/100\n",
      "1407/1407 [==============================] - 7s 5ms/step - loss: 1.2863 - accuracy: 0.5372 - val_loss: 1.5126 - val_accuracy: 0.4652\n",
      "Epoch 37/100\n",
      "1407/1407 [==============================] - 7s 5ms/step - loss: 1.2759 - accuracy: 0.5446 - val_loss: 1.4899 - val_accuracy: 0.4800\n",
      "Epoch 38/100\n",
      "1407/1407 [==============================] - 7s 5ms/step - loss: 1.2723 - accuracy: 0.5466 - val_loss: 1.4943 - val_accuracy: 0.4826\n",
      "Epoch 39/100\n",
      "1407/1407 [==============================] - 7s 5ms/step - loss: 1.2573 - accuracy: 0.5503 - val_loss: 1.5143 - val_accuracy: 0.4732\n",
      "Epoch 40/100\n",
      "1407/1407 [==============================] - 7s 5ms/step - loss: 1.2525 - accuracy: 0.5523 - val_loss: 1.4984 - val_accuracy: 0.4746\n",
      "Epoch 41/100\n",
      "1407/1407 [==============================] - 7s 5ms/step - loss: 1.2480 - accuracy: 0.5519 - val_loss: 1.5133 - val_accuracy: 0.4674\n",
      "Epoch 42/100\n",
      "1407/1407 [==============================] - 7s 5ms/step - loss: 1.2371 - accuracy: 0.5573 - val_loss: 1.4984 - val_accuracy: 0.4766\n",
      "Epoch 43/100\n",
      "1407/1407 [==============================] - 7s 5ms/step - loss: 1.2284 - accuracy: 0.5581 - val_loss: 1.5167 - val_accuracy: 0.4740\n",
      "Epoch 44/100\n",
      "1407/1407 [==============================] - 6s 5ms/step - loss: 1.2211 - accuracy: 0.5618 - val_loss: 1.5048 - val_accuracy: 0.4884\n",
      "Epoch 45/100\n",
      "1407/1407 [==============================] - 7s 5ms/step - loss: 1.2158 - accuracy: 0.5669 - val_loss: 1.5125 - val_accuracy: 0.4798\n",
      "Epoch 46/100\n",
      "1407/1407 [==============================] - 7s 5ms/step - loss: 1.2051 - accuracy: 0.5687 - val_loss: 1.5792 - val_accuracy: 0.4578\n",
      "Epoch 47/100\n",
      "1407/1407 [==============================] - 7s 5ms/step - loss: 1.2001 - accuracy: 0.5669 - val_loss: 1.4811 - val_accuracy: 0.4920\n",
      "Epoch 48/100\n",
      "1407/1407 [==============================] - 7s 5ms/step - loss: 1.1898 - accuracy: 0.5710 - val_loss: 1.5885 - val_accuracy: 0.4618\n",
      "Epoch 49/100\n",
      "1407/1407 [==============================] - 7s 5ms/step - loss: 1.1845 - accuracy: 0.5756 - val_loss: 1.5337 - val_accuracy: 0.4718\n",
      "Epoch 50/100\n",
      "1407/1407 [==============================] - 7s 5ms/step - loss: 1.1780 - accuracy: 0.5772 - val_loss: 1.5539 - val_accuracy: 0.4720\n",
      "Epoch 51/100\n",
      "1407/1407 [==============================] - 7s 5ms/step - loss: 1.1680 - accuracy: 0.5783 - val_loss: 1.5310 - val_accuracy: 0.4808\n",
      "Epoch 52/100\n",
      "1407/1407 [==============================] - 7s 5ms/step - loss: 1.1632 - accuracy: 0.5834 - val_loss: 1.5301 - val_accuracy: 0.4808\n",
      "Epoch 53/100\n",
      "1407/1407 [==============================] - 7s 5ms/step - loss: 1.1575 - accuracy: 0.5838 - val_loss: 1.5641 - val_accuracy: 0.4682\n",
      "Epoch 54/100\n",
      "1407/1407 [==============================] - 7s 5ms/step - loss: 1.1514 - accuracy: 0.5860 - val_loss: 1.5590 - val_accuracy: 0.4726\n",
      "Epoch 55/100\n",
      "1407/1407 [==============================] - 7s 5ms/step - loss: 1.1445 - accuracy: 0.5882 - val_loss: 1.5422 - val_accuracy: 0.4756\n",
      "Epoch 56/100\n",
      "1407/1407 [==============================] - 7s 5ms/step - loss: 1.1332 - accuracy: 0.5942 - val_loss: 1.6082 - val_accuracy: 0.4638\n",
      "Epoch 57/100\n",
      "1407/1407 [==============================] - 7s 5ms/step - loss: 1.1293 - accuracy: 0.5958 - val_loss: 1.5534 - val_accuracy: 0.4798\n",
      "Epoch 58/100\n",
      "1407/1407 [==============================] - 7s 5ms/step - loss: 1.1254 - accuracy: 0.5963 - val_loss: 1.5505 - val_accuracy: 0.4808\n",
      "Epoch 59/100\n",
      "1407/1407 [==============================] - 7s 5ms/step - loss: 1.1128 - accuracy: 0.6002 - val_loss: 1.6113 - val_accuracy: 0.4682\n",
      "Epoch 60/100\n",
      "1407/1407 [==============================] - 7s 5ms/step - loss: 1.1115 - accuracy: 0.6012 - val_loss: 1.5368 - val_accuracy: 0.4810\n",
      "Epoch 61/100\n",
      "1407/1407 [==============================] - 7s 5ms/step - loss: 1.1005 - accuracy: 0.6056 - val_loss: 1.5496 - val_accuracy: 0.4850\n",
      "Epoch 62/100\n",
      "1407/1407 [==============================] - 7s 5ms/step - loss: 1.0968 - accuracy: 0.6055 - val_loss: 1.5560 - val_accuracy: 0.4840\n",
      "Epoch 63/100\n",
      "1407/1407 [==============================] - 7s 5ms/step - loss: 1.0848 - accuracy: 0.6105 - val_loss: 1.5979 - val_accuracy: 0.4760\n",
      "Epoch 64/100\n",
      "1407/1407 [==============================] - 7s 5ms/step - loss: 1.0807 - accuracy: 0.6109 - val_loss: 1.5780 - val_accuracy: 0.4772\n",
      "Epoch 65/100\n",
      "1407/1407 [==============================] - 7s 5ms/step - loss: 1.0799 - accuracy: 0.6125 - val_loss: 1.5690 - val_accuracy: 0.4848\n",
      "Epoch 66/100\n",
      "1407/1407 [==============================] - 7s 5ms/step - loss: 1.0690 - accuracy: 0.6155 - val_loss: 1.5960 - val_accuracy: 0.4774\n",
      "Epoch 67/100\n",
      "1407/1407 [==============================] - 7s 5ms/step - loss: 1.0656 - accuracy: 0.6160 - val_loss: 1.6196 - val_accuracy: 0.4726\n"
     ]
    },
    {
     "data": {
      "text/plain": [
       "<keras.callbacks.History at 0x228a3667af0>"
      ]
     },
     "execution_count": 16,
     "metadata": {},
     "output_type": "execute_result"
    }
   ],
   "source": [
    "model.fit(X_train, y_train, epochs=100,\n",
    "          validation_data=(X_valid, y_valid),\n",
    "          callbacks=callbacks)"
   ]
  },
  {
   "cell_type": "code",
   "execution_count": 17,
   "metadata": {},
   "outputs": [
    {
     "name": "stdout",
     "output_type": "stream",
     "text": [
      "157/157 [==============================] - 0s 1ms/step - loss: 1.4811 - accuracy: 0.4920\n"
     ]
    },
    {
     "data": {
      "text/plain": [
       "[1.4810823202133179, 0.492000013589859]"
      ]
     },
     "execution_count": 17,
     "metadata": {},
     "output_type": "execute_result"
    }
   ],
   "source": [
    "model = keras.models.load_model(\"my_cifar10_model.h5\")\n",
    "model.evaluate(X_valid, y_valid)"
   ]
  },
  {
   "cell_type": "code",
   "execution_count": 18,
   "metadata": {},
   "outputs": [
    {
     "name": "stdout",
     "output_type": "stream",
     "text": [
      "Epoch 1/100\n",
      "1407/1407 [==============================] - 22s 8ms/step - loss: 1.8372 - accuracy: 0.3427 - val_loss: 1.6768 - val_accuracy: 0.4044\n",
      "Epoch 2/100\n",
      "1407/1407 [==============================] - 12s 8ms/step - loss: 1.6618 - accuracy: 0.4076 - val_loss: 1.5745 - val_accuracy: 0.4352\n",
      "Epoch 3/100\n",
      "1407/1407 [==============================] - 11s 8ms/step - loss: 1.5976 - accuracy: 0.4319 - val_loss: 1.5146 - val_accuracy: 0.4500\n",
      "Epoch 4/100\n",
      "1407/1407 [==============================] - 11s 8ms/step - loss: 1.5453 - accuracy: 0.4513 - val_loss: 1.5028 - val_accuracy: 0.4622\n",
      "Epoch 5/100\n",
      "1407/1407 [==============================] - 11s 8ms/step - loss: 1.5034 - accuracy: 0.4657 - val_loss: 1.4541 - val_accuracy: 0.4812\n",
      "Epoch 6/100\n",
      "1407/1407 [==============================] - 11s 8ms/step - loss: 1.4653 - accuracy: 0.4781 - val_loss: 1.4246 - val_accuracy: 0.4948\n",
      "Epoch 7/100\n",
      "1407/1407 [==============================] - 11s 8ms/step - loss: 1.4309 - accuracy: 0.4907 - val_loss: 1.4245 - val_accuracy: 0.4848\n",
      "Epoch 8/100\n",
      "1407/1407 [==============================] - 11s 8ms/step - loss: 1.4020 - accuracy: 0.5037 - val_loss: 1.3737 - val_accuracy: 0.5096\n",
      "Epoch 9/100\n",
      "1407/1407 [==============================] - 11s 8ms/step - loss: 1.3775 - accuracy: 0.5150 - val_loss: 1.3712 - val_accuracy: 0.5130\n",
      "Epoch 10/100\n",
      "1407/1407 [==============================] - 11s 8ms/step - loss: 1.3561 - accuracy: 0.5213 - val_loss: 1.3528 - val_accuracy: 0.5240\n",
      "Epoch 11/100\n",
      "1407/1407 [==============================] - 11s 8ms/step - loss: 1.3341 - accuracy: 0.5286 - val_loss: 1.3371 - val_accuracy: 0.5252\n",
      "Epoch 12/100\n",
      "1407/1407 [==============================] - 11s 8ms/step - loss: 1.3097 - accuracy: 0.5377 - val_loss: 1.3949 - val_accuracy: 0.5044\n",
      "Epoch 13/100\n",
      "1407/1407 [==============================] - 11s 8ms/step - loss: 1.2900 - accuracy: 0.5426 - val_loss: 1.3643 - val_accuracy: 0.5154\n",
      "Epoch 14/100\n",
      "1407/1407 [==============================] - 11s 8ms/step - loss: 1.2736 - accuracy: 0.5501 - val_loss: 1.3430 - val_accuracy: 0.5358\n",
      "Epoch 15/100\n",
      "1407/1407 [==============================] - 11s 8ms/step - loss: 1.2546 - accuracy: 0.5591 - val_loss: 1.3548 - val_accuracy: 0.5282\n",
      "Epoch 16/100\n",
      "1407/1407 [==============================] - 11s 8ms/step - loss: 1.2432 - accuracy: 0.5590 - val_loss: 1.3309 - val_accuracy: 0.5332\n",
      "Epoch 17/100\n",
      "1407/1407 [==============================] - 11s 8ms/step - loss: 1.2251 - accuracy: 0.5655 - val_loss: 1.3336 - val_accuracy: 0.5336\n",
      "Epoch 18/100\n",
      "1407/1407 [==============================] - 11s 8ms/step - loss: 1.2073 - accuracy: 0.5742 - val_loss: 1.3156 - val_accuracy: 0.5386\n",
      "Epoch 19/100\n",
      "1407/1407 [==============================] - 11s 7ms/step - loss: 1.1941 - accuracy: 0.5763 - val_loss: 1.3300 - val_accuracy: 0.5322\n",
      "Epoch 20/100\n",
      "1407/1407 [==============================] - 11s 8ms/step - loss: 1.1838 - accuracy: 0.5811 - val_loss: 1.3717 - val_accuracy: 0.5192\n",
      "Epoch 21/100\n",
      "1407/1407 [==============================] - 11s 8ms/step - loss: 1.1652 - accuracy: 0.5896 - val_loss: 1.3610 - val_accuracy: 0.5248\n",
      "Epoch 22/100\n",
      "1407/1407 [==============================] - 11s 8ms/step - loss: 1.1550 - accuracy: 0.5943 - val_loss: 1.3322 - val_accuracy: 0.5336\n",
      "Epoch 23/100\n",
      "1407/1407 [==============================] - 11s 8ms/step - loss: 1.1422 - accuracy: 0.5980 - val_loss: 1.3259 - val_accuracy: 0.5386\n",
      "Epoch 24/100\n",
      "1407/1407 [==============================] - 11s 8ms/step - loss: 1.1314 - accuracy: 0.6020 - val_loss: 1.2954 - val_accuracy: 0.5518\n",
      "Epoch 25/100\n",
      "1407/1407 [==============================] - 11s 8ms/step - loss: 1.1183 - accuracy: 0.6056 - val_loss: 1.3176 - val_accuracy: 0.5444\n",
      "Epoch 26/100\n",
      "1407/1407 [==============================] - 11s 8ms/step - loss: 1.1059 - accuracy: 0.6077 - val_loss: 1.3378 - val_accuracy: 0.5336\n",
      "Epoch 27/100\n",
      "1407/1407 [==============================] - 11s 8ms/step - loss: 1.0948 - accuracy: 0.6150 - val_loss: 1.3326 - val_accuracy: 0.5424\n",
      "Epoch 28/100\n",
      "1407/1407 [==============================] - 11s 8ms/step - loss: 1.0893 - accuracy: 0.6162 - val_loss: 1.3439 - val_accuracy: 0.5384\n",
      "Epoch 29/100\n",
      "1407/1407 [==============================] - 11s 8ms/step - loss: 1.0793 - accuracy: 0.6175 - val_loss: 1.3358 - val_accuracy: 0.5446\n",
      "Epoch 30/100\n",
      "1407/1407 [==============================] - 11s 8ms/step - loss: 1.0659 - accuracy: 0.6250 - val_loss: 1.3312 - val_accuracy: 0.5424\n",
      "Epoch 31/100\n",
      "1407/1407 [==============================] - 11s 8ms/step - loss: 1.0509 - accuracy: 0.6306 - val_loss: 1.3280 - val_accuracy: 0.5444\n",
      "Epoch 32/100\n",
      "1407/1407 [==============================] - 11s 8ms/step - loss: 1.0470 - accuracy: 0.6316 - val_loss: 1.3547 - val_accuracy: 0.5464\n",
      "Epoch 33/100\n",
      "1407/1407 [==============================] - 11s 8ms/step - loss: 1.0320 - accuracy: 0.6354 - val_loss: 1.3301 - val_accuracy: 0.5510\n",
      "Epoch 34/100\n",
      "1407/1407 [==============================] - 11s 8ms/step - loss: 1.0217 - accuracy: 0.6411 - val_loss: 1.3561 - val_accuracy: 0.5424\n",
      "Epoch 35/100\n",
      "1407/1407 [==============================] - 11s 8ms/step - loss: 1.0135 - accuracy: 0.6419 - val_loss: 1.3359 - val_accuracy: 0.5538\n",
      "Epoch 36/100\n",
      "1407/1407 [==============================] - 11s 8ms/step - loss: 1.0084 - accuracy: 0.6469 - val_loss: 1.3239 - val_accuracy: 0.5494\n",
      "Epoch 37/100\n",
      "1407/1407 [==============================] - 11s 8ms/step - loss: 0.9917 - accuracy: 0.6488 - val_loss: 1.3355 - val_accuracy: 0.5478\n",
      "Epoch 38/100\n",
      "1407/1407 [==============================] - 11s 8ms/step - loss: 0.9854 - accuracy: 0.6528 - val_loss: 1.3835 - val_accuracy: 0.5412\n",
      "Epoch 39/100\n",
      "1407/1407 [==============================] - 11s 8ms/step - loss: 0.9752 - accuracy: 0.6568 - val_loss: 1.3678 - val_accuracy: 0.5442\n",
      "Epoch 40/100\n",
      "1407/1407 [==============================] - 11s 8ms/step - loss: 0.9694 - accuracy: 0.6597 - val_loss: 1.3880 - val_accuracy: 0.5398\n",
      "Epoch 41/100\n",
      "1407/1407 [==============================] - 11s 8ms/step - loss: 0.9604 - accuracy: 0.6620 - val_loss: 1.3467 - val_accuracy: 0.5558\n",
      "Epoch 42/100\n",
      "1407/1407 [==============================] - 11s 8ms/step - loss: 0.9466 - accuracy: 0.6654 - val_loss: 1.3746 - val_accuracy: 0.5414\n",
      "Epoch 43/100\n",
      "1407/1407 [==============================] - 11s 8ms/step - loss: 0.9480 - accuracy: 0.6681 - val_loss: 1.3841 - val_accuracy: 0.5362\n",
      "Epoch 44/100\n",
      "1407/1407 [==============================] - 11s 8ms/step - loss: 0.9322 - accuracy: 0.6718 - val_loss: 1.4065 - val_accuracy: 0.5308\n",
      "157/157 [==============================] - 1s 2ms/step - loss: 1.2954 - accuracy: 0.5518\n"
     ]
    },
    {
     "data": {
      "text/plain": [
       "[1.2953581809997559, 0.551800012588501]"
      ]
     },
     "execution_count": 18,
     "metadata": {},
     "output_type": "execute_result"
    }
   ],
   "source": [
    "keras.backend.clear_session()\n",
    "tf.random.set_seed(42)\n",
    "np.random.seed(42)\n",
    "\n",
    "model = keras.models.Sequential()\n",
    "model.add(keras.layers.Flatten(input_shape=[32, 32, 3]))\n",
    "model.add(keras.layers.BatchNormalization())\n",
    "for _ in range(20):\n",
    "    model.add(keras.layers.Dense(100, kernel_initializer=\"he_normal\"))\n",
    "    model.add(keras.layers.BatchNormalization())\n",
    "    model.add(keras.layers.Activation(\"elu\"))\n",
    "model.add(keras.layers.Dense(10, activation=\"softmax\"))\n",
    "\n",
    "optimizer = keras.optimizers.Nadam(learning_rate=5e-4)\n",
    "model.compile(loss=\"sparse_categorical_crossentropy\",\n",
    "              optimizer=optimizer,\n",
    "              metrics=[\"accuracy\"])\n",
    "\n",
    "early_stopping_cb = keras.callbacks.EarlyStopping(patience=20)\n",
    "model_checkpoint_cb = keras.callbacks.ModelCheckpoint(\"my_cifar10_bn_model.h5\", save_best_only=True)\n",
    "run_index = 1 # 모델을 훈련할 때마다 증가시킴\n",
    "run_logdir = os.path.join(os.curdir, \"my_cifar10_logs\", \"run_bn_{:03d}\".format(run_index))\n",
    "tensorboard_cb = keras.callbacks.TensorBoard(run_logdir)\n",
    "callbacks = [early_stopping_cb, model_checkpoint_cb, tensorboard_cb]\n",
    "\n",
    "model.fit(X_train, y_train, epochs=100,\n",
    "          validation_data=(X_valid, y_valid),\n",
    "          callbacks=callbacks)\n",
    "\n",
    "model = keras.models.load_model(\"my_cifar10_bn_model.h5\")\n",
    "model.evaluate(X_valid, y_valid)"
   ]
  },
  {
   "cell_type": "code",
   "execution_count": 19,
   "metadata": {},
   "outputs": [
    {
     "name": "stdout",
     "output_type": "stream",
     "text": [
      "Epoch 1/100\n",
      "1407/1407 [==============================] - 11s 5ms/step - loss: 1.9073 - accuracy: 0.3162 - val_loss: 1.7799 - val_accuracy: 0.3566\n",
      "Epoch 2/100\n",
      "1407/1407 [==============================] - 7s 5ms/step - loss: 1.6981 - accuracy: 0.3974 - val_loss: 1.6408 - val_accuracy: 0.4098\n",
      "Epoch 3/100\n",
      "1407/1407 [==============================] - 7s 5ms/step - loss: 1.6081 - accuracy: 0.4345 - val_loss: 1.6660 - val_accuracy: 0.4112\n",
      "Epoch 4/100\n",
      "1407/1407 [==============================] - 7s 5ms/step - loss: 1.5407 - accuracy: 0.4574 - val_loss: 1.6188 - val_accuracy: 0.4534\n",
      "Epoch 5/100\n",
      "1407/1407 [==============================] - 7s 5ms/step - loss: 1.4820 - accuracy: 0.4795 - val_loss: 1.5573 - val_accuracy: 0.4772\n",
      "Epoch 6/100\n",
      "1407/1407 [==============================] - 7s 5ms/step - loss: 1.4377 - accuracy: 0.4978 - val_loss: 1.5013 - val_accuracy: 0.4724\n",
      "Epoch 7/100\n",
      "1407/1407 [==============================] - 7s 5ms/step - loss: 1.3963 - accuracy: 0.5136 - val_loss: 1.5539 - val_accuracy: 0.4590\n",
      "Epoch 8/100\n",
      "1407/1407 [==============================] - 7s 5ms/step - loss: 1.3565 - accuracy: 0.5274 - val_loss: 1.4865 - val_accuracy: 0.4832\n",
      "Epoch 9/100\n",
      "1407/1407 [==============================] - 6s 5ms/step - loss: 1.3233 - accuracy: 0.5415 - val_loss: 1.5036 - val_accuracy: 0.4738\n",
      "Epoch 10/100\n",
      "1407/1407 [==============================] - 6s 5ms/step - loss: 1.2904 - accuracy: 0.5532 - val_loss: 1.4942 - val_accuracy: 0.4856\n",
      "Epoch 11/100\n",
      "1407/1407 [==============================] - 7s 5ms/step - loss: 1.2636 - accuracy: 0.5620 - val_loss: 1.4762 - val_accuracy: 0.4960\n",
      "Epoch 12/100\n",
      "1407/1407 [==============================] - 7s 5ms/step - loss: 1.2361 - accuracy: 0.5718 - val_loss: 1.5266 - val_accuracy: 0.4870\n",
      "Epoch 13/100\n",
      "1407/1407 [==============================] - 7s 5ms/step - loss: 1.2067 - accuracy: 0.5829 - val_loss: 1.5247 - val_accuracy: 0.4890\n",
      "Epoch 14/100\n",
      "1407/1407 [==============================] - 7s 5ms/step - loss: 1.1830 - accuracy: 0.5923 - val_loss: 1.4705 - val_accuracy: 0.5022\n",
      "Epoch 15/100\n",
      "1407/1407 [==============================] - 7s 5ms/step - loss: 1.1577 - accuracy: 0.5995 - val_loss: 1.5428 - val_accuracy: 0.4916\n",
      "Epoch 16/100\n",
      "1407/1407 [==============================] - 6s 5ms/step - loss: 1.1350 - accuracy: 0.6066 - val_loss: 1.5389 - val_accuracy: 0.5020\n",
      "Epoch 17/100\n",
      "1407/1407 [==============================] - 6s 4ms/step - loss: 1.1163 - accuracy: 0.6144 - val_loss: 1.4966 - val_accuracy: 0.5028\n",
      "Epoch 18/100\n",
      "1407/1407 [==============================] - 6s 4ms/step - loss: 1.0948 - accuracy: 0.6245 - val_loss: 1.4820 - val_accuracy: 0.5148\n",
      "Epoch 19/100\n",
      "1407/1407 [==============================] - 6s 4ms/step - loss: 1.0717 - accuracy: 0.6318 - val_loss: 1.5514 - val_accuracy: 0.5136\n",
      "Epoch 20/100\n",
      "1407/1407 [==============================] - 6s 4ms/step - loss: 1.0471 - accuracy: 0.6404 - val_loss: 1.5212 - val_accuracy: 0.5092\n",
      "Epoch 21/100\n",
      "1407/1407 [==============================] - 6s 4ms/step - loss: 1.0361 - accuracy: 0.6450 - val_loss: 1.5656 - val_accuracy: 0.5004\n",
      "Epoch 22/100\n",
      "1407/1407 [==============================] - 6s 4ms/step - loss: 1.0115 - accuracy: 0.6515 - val_loss: 1.5394 - val_accuracy: 0.5114\n",
      "Epoch 23/100\n",
      "1407/1407 [==============================] - 6s 4ms/step - loss: 1.7379 - accuracy: 0.5724 - val_loss: 1.6168 - val_accuracy: 0.4306\n",
      "Epoch 24/100\n",
      "1407/1407 [==============================] - 6s 4ms/step - loss: 1.2910 - accuracy: 0.5471 - val_loss: 1.5208 - val_accuracy: 0.4884\n",
      "Epoch 25/100\n",
      "1407/1407 [==============================] - 6s 4ms/step - loss: 1.1945 - accuracy: 0.5836 - val_loss: 1.5317 - val_accuracy: 0.4874\n",
      "Epoch 26/100\n",
      "1407/1407 [==============================] - 6s 5ms/step - loss: 1.2463 - accuracy: 0.5693 - val_loss: 1.5548 - val_accuracy: 0.4666\n",
      "Epoch 27/100\n",
      "1407/1407 [==============================] - 6s 4ms/step - loss: 1.1605 - accuracy: 0.5954 - val_loss: 1.5022 - val_accuracy: 0.4966\n",
      "Epoch 28/100\n",
      "1407/1407 [==============================] - 6s 4ms/step - loss: 1.1126 - accuracy: 0.6131 - val_loss: 1.5392 - val_accuracy: 0.4886\n",
      "Epoch 29/100\n",
      "1407/1407 [==============================] - 6s 4ms/step - loss: 1.0839 - accuracy: 0.6252 - val_loss: 1.5368 - val_accuracy: 0.5010\n",
      "Epoch 30/100\n",
      "1407/1407 [==============================] - 7s 5ms/step - loss: 1.1285 - accuracy: 0.6152 - val_loss: 1.5624 - val_accuracy: 0.4884\n",
      "Epoch 31/100\n",
      "1407/1407 [==============================] - 7s 5ms/step - loss: 1.0605 - accuracy: 0.6325 - val_loss: 1.5592 - val_accuracy: 0.5110\n",
      "Epoch 32/100\n",
      "1407/1407 [==============================] - 6s 5ms/step - loss: 1.0144 - accuracy: 0.6491 - val_loss: 1.5783 - val_accuracy: 0.5032\n",
      "Epoch 33/100\n",
      "1407/1407 [==============================] - 6s 5ms/step - loss: 0.9903 - accuracy: 0.6604 - val_loss: 1.5569 - val_accuracy: 0.5100\n",
      "Epoch 34/100\n",
      "1407/1407 [==============================] - 7s 5ms/step - loss: 0.9746 - accuracy: 0.6652 - val_loss: 1.5492 - val_accuracy: 0.5142\n",
      "157/157 [==============================] - 0s 1ms/step - loss: 1.4705 - accuracy: 0.5022\n"
     ]
    },
    {
     "data": {
      "text/plain": [
       "[1.4704591035842896, 0.5022000074386597]"
      ]
     },
     "execution_count": 19,
     "metadata": {},
     "output_type": "execute_result"
    }
   ],
   "source": [
    "keras.backend.clear_session()\n",
    "tf.random.set_seed(42)\n",
    "np.random.seed(42)\n",
    "\n",
    "model = keras.models.Sequential()\n",
    "model.add(keras.layers.Flatten(input_shape=[32, 32, 3]))\n",
    "for _ in range(20):\n",
    "    model.add(keras.layers.Dense(100,\n",
    "                                 kernel_initializer=\"lecun_normal\",\n",
    "                                 activation=\"selu\"))\n",
    "model.add(keras.layers.Dense(10, activation=\"softmax\"))\n",
    "\n",
    "optimizer = keras.optimizers.Nadam(learning_rate=7e-4)\n",
    "model.compile(loss=\"sparse_categorical_crossentropy\",\n",
    "              optimizer=optimizer,\n",
    "              metrics=[\"accuracy\"])\n",
    "\n",
    "early_stopping_cb = keras.callbacks.EarlyStopping(patience=20)\n",
    "model_checkpoint_cb = keras.callbacks.ModelCheckpoint(\"my_cifar10_selu_model.h5\", save_best_only=True)\n",
    "run_index = 1 # 모델을 훈련할 때마다 증가시킴\n",
    "run_logdir = os.path.join(os.curdir, \"my_cifar10_logs\", \"run_selu_{:03d}\".format(run_index))\n",
    "tensorboard_cb = keras.callbacks.TensorBoard(run_logdir)\n",
    "callbacks = [early_stopping_cb, model_checkpoint_cb, tensorboard_cb]\n",
    "\n",
    "X_means = X_train.mean(axis=0)\n",
    "X_stds = X_train.std(axis=0)\n",
    "X_train_scaled = (X_train - X_means) / X_stds\n",
    "X_valid_scaled = (X_valid - X_means) / X_stds\n",
    "X_test_scaled = (X_test - X_means) / X_stds\n",
    "\n",
    "model.fit(X_train_scaled, y_train, epochs=100,\n",
    "          validation_data=(X_valid_scaled, y_valid),\n",
    "          callbacks=callbacks)\n",
    "\n",
    "model = keras.models.load_model(\"my_cifar10_selu_model.h5\")\n",
    "model.evaluate(X_valid_scaled, y_valid)"
   ]
  },
  {
   "cell_type": "code",
   "execution_count": null,
   "metadata": {},
   "outputs": [],
   "source": []
  }
 ],
 "metadata": {
  "kernelspec": {
   "display_name": "py10",
   "language": "python",
   "name": "python3"
  },
  "language_info": {
   "codemirror_mode": {
    "name": "ipython",
    "version": 3
   },
   "file_extension": ".py",
   "mimetype": "text/x-python",
   "name": "python",
   "nbconvert_exporter": "python",
   "pygments_lexer": "ipython3",
   "version": "3.10.4"
  },
  "orig_nbformat": 4,
  "vscode": {
   "interpreter": {
    "hash": "fc68740b5a361f49f919db40662e49dc14f1db2faacb54b7aeaa4a905f3252ee"
   }
  }
 },
 "nbformat": 4,
 "nbformat_minor": 2
}
