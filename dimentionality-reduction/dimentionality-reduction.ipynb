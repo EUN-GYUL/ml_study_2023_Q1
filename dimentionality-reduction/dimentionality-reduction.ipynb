{
 "cells": [
  {
   "cell_type": "code",
   "execution_count": 1,
   "metadata": {},
   "outputs": [],
   "source": [
    "import numpy as np\n",
    "import os\n",
    "%matplotlib inline\n",
    "import matplotlib as mpl\n",
    "import matplotlib.pyplot as plt"
   ]
  },
  {
   "cell_type": "code",
   "execution_count": 2,
   "metadata": {},
   "outputs": [],
   "source": [
    "np.random.seed(4)\n",
    "m = 60\n",
    "w1, w2 = 0.1, 0.3\n",
    "noise = 0.1\n",
    "\n",
    "angles = np.random.rand(m) * 3 * np.pi / 2 - 0.5\n",
    "X = np.empty((m, 3))\n",
    "X[:, 0] = np.cos(angles) + np.sin(angles)/2 + noise * np.random.randn(m) / 2\n",
    "X[:, 1] = np.sin(angles) * 0.7 + noise * np.random.randn(m) / 2\n",
    "X[:, 2] = X[:, 0] * w1 + X[:, 1] * w2 + noise * np.random.randn(m)"
   ]
  },
  {
   "cell_type": "code",
   "execution_count": 3,
   "metadata": {},
   "outputs": [],
   "source": [
    "X_centered = X - X.mean(axis=0)\n",
    "U, s, Vt = np.linalg.svd(X_centered)\n",
    "c1 = Vt.T[:, 0]\n",
    "c2 = Vt.T[:, 1]"
   ]
  },
  {
   "cell_type": "code",
   "execution_count": 11,
   "metadata": {},
   "outputs": [],
   "source": [
    "m, n = X.shape\n",
    "S = np.zeros(X_centered.shape)\n",
    "S[:n, :n] = np.diag(s)"
   ]
  },
  {
   "cell_type": "code",
   "execution_count": 11,
   "metadata": {},
   "outputs": [
    {
     "data": {
      "text/plain": [
       "True"
      ]
     },
     "execution_count": 11,
     "metadata": {},
     "output_type": "execute_result"
    }
   ],
   "source": [
    "np.allclose(X_centered, U.dot(S).dot(Vt))"
   ]
  },
  {
   "cell_type": "code",
   "execution_count": 14,
   "metadata": {},
   "outputs": [],
   "source": [
    "W2 = Vt.T[:, :2]\n",
    "X2D = X_centered.dot(W2)\n",
    "\n",
    "X2D_using_svd = X2D"
   ]
  },
  {
   "cell_type": "code",
   "execution_count": 12,
   "metadata": {},
   "outputs": [],
   "source": [
    "from sklearn.decomposition import PCA\n",
    "\n",
    "pca = PCA(n_components=2)\n",
    "X2D = pca.fit_transform(X)"
   ]
  },
  {
   "cell_type": "code",
   "execution_count": 13,
   "metadata": {},
   "outputs": [
    {
     "data": {
      "text/plain": [
       "array([[ 1.26203346,  0.42067648],\n",
       "       [-0.08001485, -0.35272239],\n",
       "       [ 1.17545763,  0.36085729],\n",
       "       [ 0.89305601, -0.30862856],\n",
       "       [ 0.73016287, -0.25404049]])"
      ]
     },
     "execution_count": 13,
     "metadata": {},
     "output_type": "execute_result"
    }
   ],
   "source": [
    "X2D[:5]"
   ]
  },
  {
   "cell_type": "code",
   "execution_count": 15,
   "metadata": {},
   "outputs": [
    {
     "data": {
      "text/plain": [
       "array([[-1.26203346, -0.42067648],\n",
       "       [ 0.08001485,  0.35272239],\n",
       "       [-1.17545763, -0.36085729],\n",
       "       [-0.89305601,  0.30862856],\n",
       "       [-0.73016287,  0.25404049]])"
      ]
     },
     "execution_count": 15,
     "metadata": {},
     "output_type": "execute_result"
    }
   ],
   "source": [
    "X2D_using_svd[:5]"
   ]
  },
  {
   "cell_type": "code",
   "execution_count": 19,
   "metadata": {},
   "outputs": [
    {
     "data": {
      "text/plain": [
       "array([[-1.01450604, -0.54656333, -0.27441525],\n",
       "       [-0.02103231,  0.55108376,  0.18101894],\n",
       "       [-0.95379477, -0.4668077 , -0.24237013],\n",
       "       [-0.91717404,  0.22083765, -0.01049779],\n",
       "       [-0.74607229,  0.22027492,  0.00492637],\n",
       "       [ 1.12690818,  0.35694801,  0.22123723],\n",
       "       [-1.00841533, -0.59221383, -0.28903096],\n",
       "       [ 0.6752935 , -0.26696466, -0.02731797],\n",
       "       [ 1.03283361,  0.57607012,  0.28547668],\n",
       "       [ 0.54623317,  0.6650994 ,  0.27066755],\n",
       "       [-0.9923746 , -0.00122416, -0.09115874],\n",
       "       [ 1.12210694,  0.24451191,  0.18343231],\n",
       "       [-0.99154967, -0.26167174, -0.17764026],\n",
       "       [-0.93838688, -0.4658921 , -0.24066004],\n",
       "       [ 1.09614136,  0.15310678,  0.15068578],\n",
       "       [-0.35049411,  0.43714153,  0.11309173],\n",
       "       [ 0.68847757, -0.28266102, -0.03133157],\n",
       "       [ 0.6789737 ,  0.68944696,  0.29087031],\n",
       "       [ 0.87367465, -0.18133188,  0.01924123],\n",
       "       [-1.07138066, -0.52030841, -0.27087892],\n",
       "       [ 0.53326349,  0.70190846,  0.28171728],\n",
       "       [-0.95930983, -0.67008089, -0.31042885],\n",
       "       [-0.9798862 , -0.02265289, -0.0971409 ],\n",
       "       [-1.10273483, -0.30857264, -0.20337168],\n",
       "       [ 1.18356085,  0.18884076,  0.17053764],\n",
       "       [ 0.91276373, -0.16302771,  0.02889087],\n",
       "       [-0.29087296,  0.54922361,  0.15578071],\n",
       "       [ 1.10312633,  0.21262895,  0.1711046 ],\n",
       "       [-0.93897928,  0.13281181, -0.04174167],\n",
       "       [ 0.66742298,  0.75583379,  0.31187934],\n",
       "       [ 0.09351267,  0.58634655,  0.20318911],\n",
       "       [-1.08838107, -0.5736317 , -0.29015141],\n",
       "       [ 0.02462972,  0.58569891,  0.19668905],\n",
       "       [ 0.98009492, -0.04240195,  0.07512271],\n",
       "       [ 0.98290048,  0.19326137,  0.1536987 ],\n",
       "       [-0.05773166,  0.61222026,  0.19798854],\n",
       "       [ 0.01196825,  0.62859537,  0.20978998],\n",
       "       [-0.41869286,  0.34401   ,  0.07591813],\n",
       "       [ 0.62901174,  0.63888659,  0.26950866],\n",
       "       [-0.62432486,  0.47332482,  0.10013275],\n",
       "       [ 0.72790121,  0.73878615,  0.31173173],\n",
       "       [-0.44796403,  0.53693535,  0.13736399],\n",
       "       [-0.96972295,  0.07767005, -0.06287243],\n",
       "       [ 1.1140129 ,  0.22670419,  0.17677562],\n",
       "       [ 0.78170519,  0.63326768,  0.2815729 ],\n",
       "       [ 0.15986817,  0.69591894,  0.24565846],\n",
       "       [-0.68404999,  0.3152491 ,  0.04214881],\n",
       "       [ 1.12052743,  0.44152042,  0.24876173],\n",
       "       [-0.10687018,  0.6626893 ,  0.21027799],\n",
       "       [-0.47144714,  0.37175301,  0.08032495],\n",
       "       [-1.1496772 , -0.36124111, -0.22515842],\n",
       "       [ 0.83187871,  0.652968  ,  0.29269787],\n",
       "       [-0.46926923,  0.39687775,  0.08887358],\n",
       "       [ 1.1500701 ,  0.32461304,  0.21260435],\n",
       "       [ 0.22835329,  0.55502714,  0.2050832 ],\n",
       "       [ 1.10339051,  0.20333228,  0.16803906],\n",
       "       [-1.01912154, -0.47717229, -0.25177504],\n",
       "       [ 0.53949862,  0.69941239,  0.28145663],\n",
       "       [-1.07825093, -0.1053027 , -0.13358334],\n",
       "       [ 0.58641026,  0.61839469,  0.25881149]])"
      ]
     },
     "execution_count": 19,
     "metadata": {},
     "output_type": "execute_result"
    }
   ],
   "source": [
    "X3D_inv = pca.inverse_transform(-X2D)\n",
    "X3D_inv"
   ]
  },
  {
   "cell_type": "code",
   "execution_count": 17,
   "metadata": {},
   "outputs": [
    {
     "data": {
      "text/plain": [
       "False"
      ]
     },
     "execution_count": 17,
     "metadata": {},
     "output_type": "execute_result"
    }
   ],
   "source": [
    "np.allclose(X3D_inv, X)"
   ]
  }
 ],
 "metadata": {
  "kernelspec": {
   "display_name": "py10",
   "language": "python",
   "name": "python3"
  },
  "language_info": {
   "codemirror_mode": {
    "name": "ipython",
    "version": 3
   },
   "file_extension": ".py",
   "mimetype": "text/x-python",
   "name": "python",
   "nbconvert_exporter": "python",
   "pygments_lexer": "ipython3",
   "version": "3.10.4"
  },
  "orig_nbformat": 4,
  "vscode": {
   "interpreter": {
    "hash": "fc68740b5a361f49f919db40662e49dc14f1db2faacb54b7aeaa4a905f3252ee"
   }
  }
 },
 "nbformat": 4,
 "nbformat_minor": 2
}
